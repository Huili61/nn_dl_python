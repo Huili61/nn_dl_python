{
  "cells": [
    {
      "cell_type": "markdown",
      "id": "81ad537c",
      "metadata": {
        "id": "81ad537c"
      },
      "source": [
        "# Preparations\n"
      ]
    },
    {
      "cell_type": "markdown",
      "id": "ce68eb89",
      "metadata": {
        "id": "ce68eb89"
      },
      "source": [
        "Execute the following code blocks to configure the session and import relevant modules."
      ]
    },
    {
      "cell_type": "code",
      "execution_count": null,
      "id": "ce6938f3",
      "metadata": {
        "id": "ce6938f3"
      },
      "outputs": [],
      "source": [
        "%config InlineBackend.figure_format ='retina'\n",
        "%load_ext autoreload\n",
        "%autoreload 2\n",
        "%matplotlib inline"
      ]
    },
    {
      "cell_type": "code",
      "execution_count": null,
      "id": "29d82f7c",
      "metadata": {
        "id": "29d82f7c",
        "colab": {
          "base_uri": "https://localhost:8080/",
          "height": 36
        },
        "outputId": "3a6e8554-e90a-4370-94a9-4ac641293a9e"
      },
      "outputs": [
        {
          "output_type": "execute_result",
          "data": {
            "text/plain": [
              "'2.15.0'"
            ],
            "application/vnd.google.colaboratory.intrinsic+json": {
              "type": "string"
            }
          },
          "metadata": {},
          "execution_count": 2
        }
      ],
      "source": [
        "import keras\n",
        "keras.__version__"
      ]
    },
    {
      "cell_type": "code",
      "execution_count": null,
      "id": "b5fdd8c0",
      "metadata": {
        "id": "b5fdd8c0"
      },
      "outputs": [],
      "source": [
        "from pathlib import Path\n",
        "\n",
        "import numpy as np\n",
        "from keras.models import Sequential\n",
        "from keras.layers import Dense, LSTM, Embedding\n",
        "\n",
        "#from tensorflow.keras.optimizer_v2.adam import Adam\n",
        "# Alternatively:\n",
        "from tensorflow.keras.optimizers import Adam\n"
      ]
    },
    {
      "cell_type": "markdown",
      "id": "151b5aa4",
      "metadata": {
        "id": "151b5aa4"
      },
      "source": [
        "## Running on colab\n",
        "You can use this [link](https://colab.research.google.com/github/NBISweden/workshop-neural-nets-and-deep-learning/blob/master/session_recurrentNeuralNetworks/lab_language_modelling/language_modelling.ipynb) to run the notebook on Google Colab. If you do so, it's advised that you first make a copy to your own Google Drive before starting you work on the notebbok. Otherwise changes you make to the notebook will not be saved."
      ]
    },
    {
      "cell_type": "markdown",
      "id": "bae410d8",
      "metadata": {
        "id": "bae410d8"
      },
      "source": [
        "## Download data\n",
        "You can download and extract the data to your local machine by executing the cell below. This is useful if you haven't extracted the archive in the repository, or are running the notebook outside of the repository (e.g. on Colab)"
      ]
    },
    {
      "cell_type": "code",
      "execution_count": null,
      "id": "93515a9b",
      "metadata": {
        "id": "93515a9b"
      },
      "outputs": [],
      "source": [
        "# Run this cell if you don't have the data and you are running the notebook on colab. It'll download it from github and exctract it to the current directory.\n",
        "data_directory = Path('data')\n",
        "data_url = \"https://github.com/NBISweden/workshop-neural-nets-and-deep-learning/raw/master/session_recurrentNeuralNetworks/lab_language_modelling/data/jane_austen.zip\"\n",
        "\n",
        "if not (data_directory / 'jane_austen').exists():\n",
        "    if not data_directory.exists():\n",
        "        data_directory.mkdir(parents=True)\n",
        "    if not (data_directory / 'jane_austen.zip').exists():\n",
        "        from urllib.request import urlretrieve\n",
        "        urlretrieve(data_url, 'data/jane_austen.zip')\n",
        "    if (data_directory / 'jane_austen.zip').exists():\n",
        "        import zipfile\n",
        "        with zipfile.ZipFile(data_directory / 'jane_austen.zip') as zf:\n",
        "            zf.extractall(data_directory)\n"
      ]
    },
    {
      "cell_type": "markdown",
      "id": "78ee2654",
      "metadata": {
        "id": "78ee2654"
      },
      "source": [
        "# Lab session: Language Modelling\n",
        "\n",
        "A long standing application of RNNs is to modell natural language. In the field of computational linguistics, a \"Language Model\" is a model which assign probaility to strings of a language. In this lab we will train an RNN to perform this task.\n",
        "\n",
        "We desire a model which can give us the probability of observing a string in a language, e.g. $P(\\text{the}, \\text{cat}, \\text{sat}, \\text{on}, \\text{the}, \\text{mat})$. Directly modelling this joint probability distribution is problematic, in particular because we will pretty much only see single examples of most strings in our data. The way we model this instead is by using the \"chain rule of probability\". A joint probability distribution can be broken down into products of conditional distributions according to:\n",
        "\n",
        "$$\n",
        "\\begin{align*}\n",
        "P(x_1, \\dots, x_n) = P(x_1) \\prod_{i=2}^{n} P(x_i | x_{1}, \\dots, x_{i-1})\n",
        "\\end{align*}\n",
        "$$\n",
        "\n",
        "So with the example of $P(\\text{the}, \\text{cat}, \\text{sat}, \\text{on}, \\text{the}, \\text{mat})$ we can actually model this as\n",
        "$$\n",
        "\\begin{align*}\n",
        "P(\\text{the}, \\text{cat}, \\text{sat}, \\text{on}, \\text{the}, \\text{mat}) = P(\\text{the})P(\\text{cat} | \\text{the})P(\\text{sat} | \\text{the}, \\text{cat})P(\\text{on} | \\text{the}, \\text{cat}, \\text{sat})P(\\text{the}| \\text{the}, \\text{cat}, \\text{sat}, \\text{on})P(\\text{mat}| \\text{the}, \\text{cat}, \\text{sat}, \\text{on}, \\text{the})\n",
        "\\end{align*}\n",
        "$$\n",
        "\n",
        "\n",
        "<div style=\"display: flex; justify-content: center;\">\n",
        "<img src=\"https://github.com/NBISweden/workshop-neural-nets-and-deep-learning/blob/master/session_recurrentNeuralNetworks/lab_language_modelling/images/language_modelling.gif?raw=1\" width=\"500\"/>\n",
        "</div>\n",
        "\n",
        "As you can see, this is a kind of auto regressive structure, and we'll model it using a recurrent neural network. Below illustrates how we model this for the fourth word in the example sentence:\n",
        "\n",
        "\n",
        "$$\n",
        "\\begin{align*}\n",
        "P(\\text{on} | \\text{the}, \\text{cat}, \\text{sat}) = f(\\text{the}, \\text{cat}, \\text{sat}; \\theta)\n",
        "\\end{align*}\n",
        "$$\n",
        "\n",
        "Here $f(\\bullet ; \\theta)$ is our learnable model, our RNN. We then train this model as we would train a classifier; for the example input we try to make it assign all probability to the word \"$\\text{on}$\". We can then use this to then the probability of whole sequences by taking the product of the probabilities. In practice, when we learn the maximum log likelihood, the loss decomposes into a sum of the conditional log probabilites."
      ]
    },
    {
      "cell_type": "markdown",
      "id": "c19145c1",
      "metadata": {
        "id": "c19145c1"
      },
      "source": [
        "## Prepare data\n",
        "\n",
        "In this lab we'll work with discrete input data. We'll start with the most simple way of just _tokenizing_ the string at each byte. Tokenizing refers to the process of taking a raw string of characters and convert that into a sequence of tokens. In language modelling, the tokens are typically larger units, e.g. words or word-pieces but we'll start out simply. As an example we'll use the collected works of Jane Austen (under `data/jane_austen`). The text we're going to use are in markdown (`.md` files) so we search for all such files in the directory."
      ]
    },
    {
      "cell_type": "code",
      "execution_count": null,
      "id": "61c58171",
      "metadata": {
        "id": "61c58171",
        "colab": {
          "base_uri": "https://localhost:8080/"
        },
        "outputId": "0df25920-577b-49fa-c50b-82c295b569fe"
      },
      "outputs": [
        {
          "output_type": "execute_result",
          "data": {
            "text/plain": [
              "[PosixPath('data/jane_austen/Jane_Austen_Emma_(1815).txt'),\n",
              " PosixPath('data/jane_austen/Jane_Austen_Juvenilia_(1787_93).txt'),\n",
              " PosixPath('data/jane_austen/Jane_Austen_Lady_Susan_(1871).txt'),\n",
              " PosixPath('data/jane_austen/Jane_Austen_Lesley_Castle_1792).txt'),\n",
              " PosixPath('data/jane_austen/Jane_Austen_Love_and_Freindship_(1790).txt'),\n",
              " PosixPath('data/jane_austen/Jane_Austen_Mansfield_Park_(1814).txt'),\n",
              " PosixPath('data/jane_austen/Jane_Austen_Northanger_Abbey_(1818).txt'),\n",
              " PosixPath('data/jane_austen/Jane_Austen_Persuasion_(1818).txt'),\n",
              " PosixPath('data/jane_austen/Jane_Austen_Pride_and_Prejudice_(1813).txt'),\n",
              " PosixPath('data/jane_austen/Jane_Austen_Sense_and_Sensibility_(1811).txt'),\n",
              " PosixPath('data/jane_austen/Jane_Austen_The_history_of_England_(1791).txt')]"
            ]
          },
          "metadata": {},
          "execution_count": 5
        }
      ],
      "source": [
        "from pathlib import Path\n",
        "data_directory = Path('data/jane_austen')\n",
        "data_files = sorted(data_directory.glob('*.txt'))\n",
        "data_files"
      ]
    },
    {
      "cell_type": "markdown",
      "id": "304865d8",
      "metadata": {
        "id": "304865d8"
      },
      "source": [
        "The data is small, so we can actually ingest the whole dataset. We will create a list of strings which can later be used to train our models."
      ]
    },
    {
      "cell_type": "code",
      "execution_count": 36,
      "id": "f0d13102",
      "metadata": {
        "id": "f0d13102",
        "colab": {
          "base_uri": "https://localhost:8080/"
        },
        "outputId": "e0f19414-5024-4d5d-d240-932977162a98",
        "collapsed": true
      },
      "outputs": [
        {
          "output_type": "stream",
          "name": "stdout",
          "text": [
            "# Emma\n",
            "\n",
            "✍ Jane Austen\n",
            "\n",
            "## Volume I\n",
            "\n",
            "### Chapter I\n",
            "\n",
            "Emma Woodhouse, handsome, clever, and rich, with \n",
            "---------------------------------------\n"
          ]
        }
      ],
      "source": [
        "loaded_data = []\n",
        "for data_file in data_files:\n",
        "    with open(data_file) as fp:\n",
        "        loaded_data.append(fp.read())\n",
        "\n",
        "print(loaded_data[0][0:100])\n",
        "# print(loaded_data[1])"
      ]
    },
    {
      "cell_type": "markdown",
      "id": "51a216b6",
      "metadata": {
        "id": "51a216b6"
      },
      "source": [
        "### The tokenizer\n",
        "\n",
        "In this example we'll use a very simple tokenizer, but in general you can think of this as important preprocessing step when creating a language model.\n",
        "\n",
        "It's important to realize that the model will see each token as it's own discrete, atomic symbol. It will not be able to _see_ beforehand that that tokens might have similarities. For example, if we tokenize by splitting the text on whitespace and punctuation we might get the tokens \"book\" and \"bookseller\". From the models point of view these will be as similar as the words \"book\" and \"profiting\". In the field of computational linguistics, tokenization was long an important consideration to make the model learn to exploit similarites of words.\n",
        "\n",
        "In our example, we tokenize by simply breaking the text down into the most basic unit, the characters of the text. This makes the problem a lot harder for the model, it will need to spend quite a lot of time trying to learn what sequences of characters actually describe words.\n",
        "\n"
      ]
    },
    {
      "cell_type": "code",
      "execution_count": 100,
      "id": "ac1610ea",
      "metadata": {
        "id": "ac1610ea"
      },
      "outputs": [],
      "source": [
        "def character_tokenizer(list_text):\n",
        "    \"\"\"returns a sequence of tokens based on the given text. Tkenizes and lower the text based on the character in the text\"\"\"\n",
        "    text = []\n",
        "    for text_i in list_text:\n",
        "      text.append(text_i.lower())\n",
        "    # lower case\n",
        "    return text\n"
      ]
    },
    {
      "cell_type": "code",
      "execution_count": 87,
      "id": "616ac67e",
      "metadata": {
        "id": "616ac67e",
        "colab": {
          "base_uri": "https://localhost:8080/"
        },
        "outputId": "69649816-b7e8-45d9-9bec-dd368cd17352"
      },
      "outputs": [
        {
          "output_type": "execute_result",
          "data": {
            "text/plain": [
              "['#', ' ', 'e', 'm', 'm', 'a', '\\n', '\\n', '✍', ' ']"
            ]
          },
          "metadata": {},
          "execution_count": 87
        }
      ],
      "source": [
        "tokenized_data = [list(character_tokenizer(text)) for text in loaded_data]\n",
        "tokenized_data[0][0:10]"
      ]
    },
    {
      "cell_type": "markdown",
      "id": "da44f6ed",
      "metadata": {
        "id": "da44f6ed"
      },
      "source": [
        "### Embeddings\n",
        "\n",
        "In a neural network, everything needs to be represented as a vector of real numbers. If the data we want to operate on is _categorical_ we need to first change the representation into dense vectors. We will do this by creating a look-up table, where each discrete token in our data (e.g. the characters of the text when using character tokenization) is represented by its _own_ vector of real values. We will create these vectors using random values and the vector associated with a particular discrete token is called its _embedding_.\n",
        "\n",
        "To efficiently make this lookup, we will create an intermediary representation, where we assign each token an integer value in the range of $[1, n]$, where $n$ is the number of tokens we have. We will reserve the integer code $0$ for invalid tokens, and if it's part of the input it will be replaced by the zero vector.\n",
        "\n",
        "The embedding vectors will then be collected in a matrix, with one vector per row. The embedding process can then be efficiently implemented by just indexing into this matrix with the token integer code.\n",
        "To create these encodings, we will create a map from all tokens we expect in our input to a set of integers using a python dictionary. We will also create a special _unknown_ `<UNK>` token, which is used whenever we see an input token we didn't expect. This is often used in practice if we need to limit the number of tokens (for example, we might only  choose to use the most common 50000 words in our data, even though there might be millions. Any word less common than these 50000 will be replaced by the `<UNK>` token)."
      ]
    },
    {
      "cell_type": "code",
      "execution_count": 88,
      "id": "1c76e50a",
      "metadata": {
        "id": "1c76e50a",
        "colab": {
          "base_uri": "https://localhost:8080/"
        },
        "outputId": "c136fb6a-3ce3-4b7f-ea75-b745c6970eb1"
      },
      "outputs": [
        {
          "output_type": "execute_result",
          "data": {
            "text/plain": [
              "[(' ', 761113),\n",
              " ('e', 431483),\n",
              " ('t', 295167),\n",
              " ('a', 267882),\n",
              " ('o', 262873),\n",
              " ('n', 243269),\n",
              " ('i', 233013),\n",
              " ('h', 211804),\n",
              " ('s', 211745),\n",
              " ('r', 208221),\n",
              " ('d', 142740),\n",
              " ('l', 134673),\n",
              " ('u', 98307),\n",
              " ('m', 94826),\n",
              " ('c', 81507),\n",
              " ('w', 80143),\n",
              " ('f', 78590),\n",
              " ('y', 77127),\n",
              " ('g', 65429),\n",
              " (',', 60093),\n",
              " ('b', 53782),\n",
              " ('p', 52926),\n",
              " ('v', 37468),\n",
              " ('.', 35377),\n",
              " ('\\n', 22017),\n",
              " ('k', 20320),\n",
              " (';', 10762),\n",
              " ('“', 9300),\n",
              " ('”', 9209),\n",
              " ('x', 5830),\n",
              " ('—', 5646),\n",
              " ('’', 5267),\n",
              " ('j', 5130),\n",
              " ('\\xa0', 5118),\n",
              " ('q', 4128),\n",
              " ('*', 3954),\n",
              " ('!', 3661),\n",
              " ('-', 3060),\n",
              " ('?', 2763),\n",
              " ('z', 1583),\n",
              " (':', 1032),\n",
              " ('#', 815),\n",
              " ('(', 509),\n",
              " (')', 509),\n",
              " ('‘', 281),\n",
              " ('1', 153),\n",
              " ('2', 97),\n",
              " ('0', 69),\n",
              " ('3', 61),\n",
              " ('>', 61),\n",
              " ('8', 56),\n",
              " ('5', 55),\n",
              " ('[', 54),\n",
              " (']', 54),\n",
              " ('7', 51),\n",
              " ('4', 48),\n",
              " ('9', 42),\n",
              " ('6', 41),\n",
              " ('_', 38),\n",
              " ('&', 34),\n",
              " ('…', 20),\n",
              " ('\\\\', 16),\n",
              " ('✍', 11),\n",
              " ('é', 9),\n",
              " ('£', 6),\n",
              " ('\"', 5),\n",
              " ('–', 4),\n",
              " ('ê', 4),\n",
              " ('☞', 3),\n",
              " ('^', 3),\n",
              " ('à', 3),\n",
              " ('❧', 2),\n",
              " ('<', 2),\n",
              " ('🎭', 1),\n",
              " ('👥', 1),\n",
              " ('æ', 1)]"
            ]
          },
          "metadata": {},
          "execution_count": 88
        }
      ],
      "source": [
        "from collections import Counter # We will use a counter to keep track of which tokens are the most common\n",
        "vocabulary_counter = Counter()\n",
        "for tokenized_text in tokenized_data:\n",
        "    vocabulary_counter.update(character_tokenizer(tokenized_text))\n",
        "vocabulary_counter.most_common()"
      ]
    },
    {
      "cell_type": "code",
      "execution_count": 89,
      "id": "7bf6fa78",
      "metadata": {
        "id": "7bf6fa78",
        "colab": {
          "base_uri": "https://localhost:8080/"
        },
        "outputId": "8cf5c72f-f176-4f18-fa72-9ccc6859ebcb",
        "collapsed": true
      },
      "outputs": [
        {
          "output_type": "execute_result",
          "data": {
            "text/plain": [
              "{'<EMPTY>': 0,\n",
              " '<UNK>': 1,\n",
              " ' ': 2,\n",
              " 'e': 3,\n",
              " 't': 4,\n",
              " 'a': 5,\n",
              " 'o': 6,\n",
              " 'n': 7,\n",
              " 'i': 8,\n",
              " 'h': 9,\n",
              " 's': 10,\n",
              " 'r': 11,\n",
              " 'd': 12,\n",
              " 'l': 13,\n",
              " 'u': 14,\n",
              " 'm': 15,\n",
              " 'c': 16,\n",
              " 'w': 17,\n",
              " 'f': 18,\n",
              " 'y': 19,\n",
              " 'g': 20,\n",
              " ',': 21,\n",
              " 'b': 22,\n",
              " 'p': 23,\n",
              " 'v': 24,\n",
              " '.': 25,\n",
              " '\\n': 26,\n",
              " 'k': 27,\n",
              " ';': 28,\n",
              " '“': 29,\n",
              " '”': 30,\n",
              " 'x': 31,\n",
              " '—': 32,\n",
              " '’': 33,\n",
              " 'j': 34,\n",
              " '\\xa0': 35,\n",
              " 'q': 36,\n",
              " '*': 37,\n",
              " '!': 38,\n",
              " '-': 39,\n",
              " '?': 40,\n",
              " 'z': 41,\n",
              " ':': 42,\n",
              " '#': 43,\n",
              " '(': 44,\n",
              " ')': 45,\n",
              " '‘': 46,\n",
              " '1': 47,\n",
              " '2': 48,\n",
              " '0': 49,\n",
              " '3': 50,\n",
              " '>': 51,\n",
              " '8': 52,\n",
              " '5': 53,\n",
              " '[': 54,\n",
              " ']': 55,\n",
              " '7': 56,\n",
              " '4': 57,\n",
              " '9': 58,\n",
              " '6': 59,\n",
              " '_': 60,\n",
              " '&': 61,\n",
              " '…': 62,\n",
              " '\\\\': 63,\n",
              " '✍': 64,\n",
              " 'é': 65,\n",
              " '£': 66,\n",
              " '\"': 67,\n",
              " '–': 68,\n",
              " 'ê': 69,\n",
              " '☞': 70,\n",
              " '^': 71,\n",
              " 'à': 72,\n",
              " '❧': 73,\n",
              " '<': 74,\n",
              " '🎭': 75,\n",
              " '👥': 76,\n",
              " 'æ': 77}"
            ]
          },
          "metadata": {},
          "execution_count": 89
        }
      ],
      "source": [
        "# We now take the vocabular_counter and create a dictionary from the the token to an integer code\n",
        "# We reserve the first two code positions for the empty token (used for padding sequences) and\n",
        "# the unknown token\n",
        "token_encoding_map = dict()\n",
        "token_encoding_map['<EMPTY>'] = 0 # for padding\n",
        "token_encoding_map['<UNK>'] = 1 # for unknown tokens not included in vocabulary matrix\n",
        "i = 2\n",
        "for token, count in vocabulary_counter.most_common():\n",
        "    token_encoding_map[token] = i\n",
        "    i += 1\n",
        "token_encoding_map"
      ]
    },
    {
      "cell_type": "code",
      "execution_count": 90,
      "id": "9053f003",
      "metadata": {
        "id": "9053f003",
        "colab": {
          "base_uri": "https://localhost:8080/"
        },
        "outputId": "232e36bd-62cf-4ea3-ff8e-8d942c4ab9a5"
      },
      "outputs": [
        {
          "output_type": "execute_result",
          "data": {
            "text/plain": [
              "{0: '<EMPTY>',\n",
              " 1: '<UNK>',\n",
              " 2: ' ',\n",
              " 3: 'e',\n",
              " 4: 't',\n",
              " 5: 'a',\n",
              " 6: 'o',\n",
              " 7: 'n',\n",
              " 8: 'i',\n",
              " 9: 'h',\n",
              " 10: 's',\n",
              " 11: 'r',\n",
              " 12: 'd',\n",
              " 13: 'l',\n",
              " 14: 'u',\n",
              " 15: 'm',\n",
              " 16: 'c',\n",
              " 17: 'w',\n",
              " 18: 'f',\n",
              " 19: 'y',\n",
              " 20: 'g',\n",
              " 21: ',',\n",
              " 22: 'b',\n",
              " 23: 'p',\n",
              " 24: 'v',\n",
              " 25: '.',\n",
              " 26: '\\n',\n",
              " 27: 'k',\n",
              " 28: ';',\n",
              " 29: '“',\n",
              " 30: '”',\n",
              " 31: 'x',\n",
              " 32: '—',\n",
              " 33: '’',\n",
              " 34: 'j',\n",
              " 35: '\\xa0',\n",
              " 36: 'q',\n",
              " 37: '*',\n",
              " 38: '!',\n",
              " 39: '-',\n",
              " 40: '?',\n",
              " 41: 'z',\n",
              " 42: ':',\n",
              " 43: '#',\n",
              " 44: '(',\n",
              " 45: ')',\n",
              " 46: '‘',\n",
              " 47: '1',\n",
              " 48: '2',\n",
              " 49: '0',\n",
              " 50: '3',\n",
              " 51: '>',\n",
              " 52: '8',\n",
              " 53: '5',\n",
              " 54: '[',\n",
              " 55: ']',\n",
              " 56: '7',\n",
              " 57: '4',\n",
              " 58: '9',\n",
              " 59: '6',\n",
              " 60: '_',\n",
              " 61: '&',\n",
              " 62: '…',\n",
              " 63: '\\\\',\n",
              " 64: '✍',\n",
              " 65: 'é',\n",
              " 66: '£',\n",
              " 67: '\"',\n",
              " 68: '–',\n",
              " 69: 'ê',\n",
              " 70: '☞',\n",
              " 71: '^',\n",
              " 72: 'à',\n",
              " 73: '❧',\n",
              " 74: '<',\n",
              " 75: '🎭',\n",
              " 76: '👥',\n",
              " 77: 'æ'}"
            ]
          },
          "metadata": {},
          "execution_count": 90
        }
      ],
      "source": [
        "# We also create the inverse dictionary so that we can go the other way around\n",
        "inverse_token_encoding_map = {i: token for token, i in token_encoding_map.items()}\n",
        "inverse_token_encoding_map"
      ]
    },
    {
      "cell_type": "code",
      "execution_count": 91,
      "id": "d560ce8e",
      "metadata": {
        "id": "d560ce8e"
      },
      "outputs": [],
      "source": [
        "def encode_tokenized_text(tokenized_text):\n",
        "    unk_code = token_encoding_map['<UNK>']\n",
        "    # By using .get() on the dictionary instead of subscript (token_encoding_map[c])\n",
        "    # we can supply a default value to use if that token isn't in the encoding map.\n",
        "    # This allows us to handle out of vocabulary tokens by simply replacing them with the <UNK> token (its encoding actually)\n",
        "    encoded_text = [token_encoding_map.get(c, unk_code) for c in tokenized_text]\n",
        "    return encoded_text\n",
        "\n",
        "def decode_encoded_text(encoded_text):\n",
        "    decoded_text = [inverse_token_encoding_map.get(x, '<UNK>') for x in encoded_text]\n",
        "    return decoded_text"
      ]
    },
    {
      "cell_type": "markdown",
      "id": "b9d93bb2",
      "metadata": {
        "id": "b9d93bb2"
      },
      "source": [
        "We now have what we need to be able to create or datasets. We will encode them all into integer sequences, and then go the other way around to make sure the process worked."
      ]
    },
    {
      "cell_type": "code",
      "execution_count": 92,
      "id": "752a6370",
      "metadata": {
        "id": "752a6370",
        "colab": {
          "base_uri": "https://localhost:8080/"
        },
        "outputId": "2743194b-5488-4ba0-f0ad-663a3af7dd29"
      },
      "outputs": [
        {
          "output_type": "stream",
          "name": "stdout",
          "text": [
            "Tokenized data: ['#', ' ', 'e', 'm', 'm', 'a', '\\n', '\\n', '✍', ' ', 'j', 'a', 'n', 'e', ' ', 'a', 'u', 's', 't', 'e', 'n', '\\n', '\\n', '#', '#', ' ', 'v', 'o', 'l', 'u', 'm', 'e', ' ', 'i', '\\n', '\\n', '#', '#', '#', ' ', 'c', 'h', 'a', 'p', 't', 'e', 'r', ' ', 'i', '\\n', '\\n', 'e', 'm', 'm', 'a', ' ', 'w', 'o', 'o', 'd', 'h', 'o', 'u', 's', 'e', ',', ' ', 'h', 'a', 'n', 'd', 's', 'o', 'm', 'e', ',', ' ', 'c', 'l', 'e', 'v', 'e', 'r', ',', ' ', 'a', 'n', 'd', ' ', 'r', 'i', 'c', 'h', ',', ' ', 'w', 'i', 't', 'h', ' ']\n",
            "Encoded data:   [43, 2, 3, 15, 15, 5, 26, 26, 64, 2, 34, 5, 7, 3, 2, 5, 14, 10, 4, 3, 7, 26, 26, 43, 43, 2, 24, 6, 13, 14, 15, 3, 2, 8, 26, 26, 43, 43, 43, 2, 16, 9, 5, 23, 4, 3, 11, 2, 8, 26, 26, 3, 15, 15, 5, 2, 17, 6, 6, 12, 9, 6, 14, 10, 3, 21, 2, 9, 5, 7, 12, 10, 6, 15, 3, 21, 2, 16, 13, 3, 24, 3, 11, 21, 2, 5, 7, 12, 2, 11, 8, 16, 9, 21, 2, 17, 8, 4, 9, 2]\n",
            "Decoded data:   ['#', ' ', 'e', 'm', 'm', 'a', '\\n', '\\n', '✍', ' ', 'j', 'a', 'n', 'e', ' ', 'a', 'u', 's', 't', 'e', 'n', '\\n', '\\n', '#', '#', ' ', 'v', 'o', 'l', 'u', 'm', 'e', ' ', 'i', '\\n', '\\n', '#', '#', '#', ' ', 'c', 'h', 'a', 'p', 't', 'e', 'r', ' ', 'i', '\\n', '\\n', 'e', 'm', 'm', 'a', ' ', 'w', 'o', 'o', 'd', 'h', 'o', 'u', 's', 'e', ',', ' ', 'h', 'a', 'n', 'd', 's', 'o', 'm', 'e', ',', ' ', 'c', 'l', 'e', 'v', 'e', 'r', ',', ' ', 'a', 'n', 'd', ' ', 'r', 'i', 'c', 'h', ',', ' ', 'w', 'i', 't', 'h', ' ']\n"
          ]
        }
      ],
      "source": [
        "# We start by printing the first 100 characters from the first text\n",
        "print(\"Tokenized data:\", tokenized_data[0][:100])\n",
        "\n",
        "encoded_data = []\n",
        "for tokenized_text in tokenized_data:\n",
        "    encoded_text = encode_tokenized_text(tokenized_text)\n",
        "    encoded_data.append(encoded_text)\n",
        "\n",
        "print(\"Encoded data:  \", encoded_data[0][:100])\n",
        "test_decode = decode_encoded_text(encoded_data[0])\n",
        "print(\"Decoded data:  \", test_decode[:100])"
      ]
    },
    {
      "cell_type": "markdown",
      "id": "a345d541",
      "metadata": {
        "id": "a345d541"
      },
      "source": [
        "### What about one-hot vectors?\n",
        "\n",
        "As a general rule of thumb, you should never represent categorical variables as one-hot vectors when using them as inputs to neural networks. It's wasteful on computation and makes optimization with momentum optimizers messier. Instead, use an `Embedding` layer and encode the input as integers. If you like, you can think of this as a sparse representation of one-hot vectors, where the integer is essentially the index of the \"hot\" bit in the vector. One case where you might want to use one-hot vectors is for the targets and the `CategoricalCrossEntropy` loss, but here it's also better to stick with integer encoded categorical variables and use `SparseCategoricalCrossEntropy` unless your targets have their probability mass spread over more than one class value."
      ]
    },
    {
      "cell_type": "markdown",
      "id": "cab2d307",
      "metadata": {
        "id": "cab2d307"
      },
      "source": [
        "## A data sampler - `keras.utils.Sequence`\n",
        "\n",
        "For convenience we will create a data sampler. Its job will be to supply the training with mini-batches of text sequences from all our Jane Austen books. In practice it's a good idea to create such a wrapper for our dataset since it allows us to control the batches delivered to the training loop while still allowing the data loading to be done in sequence.\n",
        "\n",
        "In this case we will take the simplest possible approach to just randomly sample subsequences from all of our texts.\n",
        "\n",
        "We will incorporate the above preprocessing steps into this class, so that it encapsulate all the necessary book keeping info we need to encode and decode data,."
      ]
    },
    {
      "cell_type": "code",
      "execution_count": 93,
      "id": "bc19d53c",
      "metadata": {
        "id": "bc19d53c"
      },
      "outputs": [],
      "source": [
        "from keras.utils import Sequence, pad_sequences\n",
        "from collections import Counter # We will use a counter to keep track of which tokens are the most common\n",
        "import numpy\n",
        "\n",
        "class RandomTextDataset(Sequence):\n",
        "    def __init__(self, text_files, context_length, batch_size, tokenizer=character_tokenizer, unk_string = '<UNK>', empty_string='<EMPTY>', rng=None, max_vocab=None) -> None:\n",
        "        super().__init__()\n",
        "        if rng is None:\n",
        "            rng = numpy.random.default_rng()\n",
        "        self.rng = rng\n",
        "\n",
        "        self.context_length = context_length\n",
        "        self.batch_size = batch_size\n",
        "\n",
        "        self.unk_string = unk_string\n",
        "        self.empty_string = empty_string\n",
        "        self.max_vocab = max_vocab\n",
        "\n",
        "        self.tokenzier = tokenizer\n",
        "\n",
        "        loaded_data = []\n",
        "        for data_file in data_files:\n",
        "            with open(data_file) as fp:\n",
        "                loaded_data.append(fp.read())\n",
        "\n",
        "        tokenized_data = [list(tokenizer(text)) for text in loaded_data]\n",
        "\n",
        "        vocabulary_counter = Counter()\n",
        "        for tokenized_text in tokenized_data:\n",
        "            vocabulary_counter.update(tokenized_text)\n",
        "\n",
        "        # We now take the vocabular_counter and create a dictionary from the the token to an integer code\n",
        "        # We reserve the first two code positions for the empty token (used for padding sequences) and\n",
        "        # the unknown token\n",
        "        self.token_encoding_map = dict()\n",
        "        self.token_encoding_map[self.empty_string] = 0\n",
        "        self.token_encoding_map[self.unk_string] = 1\n",
        "        i = 2\n",
        "        for token, count in vocabulary_counter.most_common(self.max_vocab):\n",
        "            self.token_encoding_map[token] = i\n",
        "            i += 1\n",
        "\n",
        "        # We also create the inverse dictionary so that we can go the other way around\n",
        "        self.inverse_token_encoding_map = {i: token for token, i in self.token_encoding_map.items()}\n",
        "        self.encoded_texts = [self.encode_tokenized_text(text) for text in tokenized_data]\n",
        "\n",
        "        # The +1 is because we create a input and target sequence by taking one which is context_length+1,\n",
        "        # and then shift the target one step to the left while dropping the last token for the input\n",
        "        self.n = sum(len(encoded_text)//((self.context_length+1)*self.batch_size) for encoded_text in self.encoded_texts)\n",
        "\n",
        "    def __len__(self):\n",
        "        return self.n\n",
        "\n",
        "    def __getitem__(self, item):\n",
        "        # We don't actually sample the text round-robin, instead we just take any text.\n",
        "        input_sequences, target_sequences = zip(*[self.sample_sequence() for i in range(self.batch_size)])\n",
        "        pad_size_input = max(len(s) for s in input_sequences)\n",
        "        input_sequences_padded = pad_sequences(input_sequences, pad_size_input, padding=\"post\", value=0)\n",
        "        target_sequences_padded = pad_sequences(target_sequences, pad_size_input, padding=\"post\", value=0)\n",
        "        return input_sequences_padded, target_sequences_padded\n",
        "\n",
        "\n",
        "    def sample_sequence(self):\n",
        "        text_to_sample = self.rng.integers(len(self.encoded_texts))\n",
        "        sampled_text = self.encoded_texts[text_to_sample]\n",
        "        start_index = self.rng.integers(len(sampled_text)- self.context_length - 1)\n",
        "        sampled_sequence = sampled_text[start_index: start_index+self.context_length+1]\n",
        "        input_sequence = sampled_sequence[:-1]\n",
        "        target_sequence = sampled_sequence[1:]\n",
        "        return input_sequence, target_sequence\n",
        "\n",
        "    def encode_text(self, text):\n",
        "        tokenized_text = self.tokenize_text(text)\n",
        "        encoded_text = self.encode_tokenized_text(tokenized_text)\n",
        "        return encoded_text\n",
        "\n",
        "    def tokenize_text(self, text):\n",
        "        return self.tokenzier(text)\n",
        "\n",
        "    def encode_tokenized_text(self, tokenized_text):\n",
        "        unk_code = self.token_encoding_map[self.unk_string]\n",
        "        # By using .get() on the dictionary instead of subscript (token_encoding_map[c])\n",
        "        # we can supply a default value to use if that token isn't in the encoding map.\n",
        "        # This allows us to handle out of vocabulary tokens by simply replacing them with the <UNK> token (its encoding actually)\n",
        "        encoded_text = [self.token_encoding_map.get(c, unk_code) for c in tokenized_text]\n",
        "        return encoded_text\n",
        "\n",
        "    def decode_encoded_text(self, encoded_text):\n",
        "        decoded_text = [self.inverse_token_encoding_map.get(x, self.unk_string) for x in encoded_text]\n",
        "        return decoded_text\n",
        "\n",
        "    def get_vocab_size(self):\n",
        "        return len(self.token_encoding_map)\n",
        "\n"
      ]
    },
    {
      "cell_type": "code",
      "execution_count": 94,
      "id": "a0f3210a",
      "metadata": {
        "id": "a0f3210a"
      },
      "outputs": [],
      "source": [
        "## Define some data parameters\n",
        "CONTEXT_LENGTH = 256  # The length of the sequences we will train on\n",
        "BATCH_SIZE = 64  # How many examples we'll process per batch."
      ]
    },
    {
      "cell_type": "code",
      "execution_count": 95,
      "id": "b1e1cbb9",
      "metadata": {
        "id": "b1e1cbb9"
      },
      "outputs": [],
      "source": [
        "dataset = RandomTextDataset(data_files, CONTEXT_LENGTH, BATCH_SIZE, tokenizer=character_tokenizer, max_vocab=None)  # If you set max_vocab to an integer n, only the most frequent n tokens will be used. The remainder will be replaced by <UNK>"
      ]
    },
    {
      "cell_type": "code",
      "source": [
        "dataset[0]"
      ],
      "metadata": {
        "colab": {
          "base_uri": "https://localhost:8080/"
        },
        "id": "kzKGpKA6sAT9",
        "outputId": "d02103ab-8109-495d-e7ac-d194d445dfed"
      },
      "id": "kzKGpKA6sAT9",
      "execution_count": 96,
      "outputs": [
        {
          "output_type": "execute_result",
          "data": {
            "text/plain": [
              "(array([[ 8,  7,  2, ..., 20, 11,  5],\n",
              "        [ 2,  7,  6, ...,  5,  4,  2],\n",
              "        [ 2,  5, 13, ...,  6, 24,  3],\n",
              "        ...,\n",
              "        [23,  6, 10, ...,  5, 19,  2],\n",
              "        [10,  9,  3, ...,  8, 10,  2],\n",
              "        [16,  9,  2, ..., 12,  2,  6]], dtype=int32),\n",
              " array([[ 7,  2,  5, ..., 11,  5,  4],\n",
              "        [ 7,  6,  4, ...,  4,  2, 19],\n",
              "        [ 5, 13,  4, ..., 24,  3, 11],\n",
              "        ...,\n",
              "        [ 6, 10,  3, ..., 19,  2,  4],\n",
              "        [ 9,  3,  2, ..., 10,  2,  5],\n",
              "        [ 9,  2, 10, ...,  2,  6, 14]], dtype=int32))"
            ]
          },
          "metadata": {},
          "execution_count": 96
        }
      ]
    },
    {
      "cell_type": "code",
      "execution_count": 97,
      "id": "1a7bb874",
      "metadata": {
        "id": "1a7bb874",
        "colab": {
          "base_uri": "https://localhost:8080/"
        },
        "outputId": "50b90184-95b3-46f0-c180-be6fefbdafdb"
      },
      "outputs": [
        {
          "output_type": "execute_result",
          "data": {
            "text/plain": [
              "(256,)"
            ]
          },
          "metadata": {},
          "execution_count": 97
        }
      ],
      "source": [
        "dataset[0][0][0].shape"
      ]
    },
    {
      "cell_type": "markdown",
      "id": "a123bf6e",
      "metadata": {
        "id": "a123bf6e"
      },
      "source": [
        "## The model\n",
        "\n",
        "We're now ready to start training a model, but there are some things we need to decide on first. We will train our RNNs (LSTMs actually) using _truncated_ Back-Progation Through Time. The truncation comes from the fact that we can't train the model on whole books; we simply don't have enough memory to do so. Instead we train the model by showing it _truncated_ parts of the whole books. Ideally, we wan't to show it as long sequences as we can fit into the memory of our GPUs, so this variable will depend on that. We also wan't to make use of the parallel nature of the GPU, so we want to train on multiple sequences in parallel in a mini-batch."
      ]
    },
    {
      "cell_type": "code",
      "execution_count": 98,
      "id": "67f8d40f",
      "metadata": {
        "id": "67f8d40f",
        "colab": {
          "base_uri": "https://localhost:8080/"
        },
        "outputId": "4c430331-4497-48a3-c21b-f81d88ecd11a"
      },
      "outputs": [
        {
          "output_type": "stream",
          "name": "stdout",
          "text": [
            "Model: \"sequential_4\"\n",
            "_________________________________________________________________\n",
            " Layer (type)                Output Shape              Param #   \n",
            "=================================================================\n",
            " embedding_4 (Embedding)     (None, None, 32)          2496      \n",
            "                                                                 \n",
            " lstm_4 (LSTM)               (None, None, 128)         82432     \n",
            "                                                                 \n",
            " dense_8 (Dense)             (None, None, 128)         16512     \n",
            "                                                                 \n",
            " dense_9 (Dense)             (None, None, 78)          10062     \n",
            "                                                                 \n",
            "=================================================================\n",
            "Total params: 111502 (435.55 KB)\n",
            "Trainable params: 111502 (435.55 KB)\n",
            "Non-trainable params: 0 (0.00 Byte)\n",
            "_________________________________________________________________\n"
          ]
        }
      ],
      "source": [
        "import keras.losses\n",
        "\n",
        "\n",
        "epochsVal = 100\n",
        "learnRateVal = 0.01\n",
        "batchSizeVal = 10\n",
        "opt = Adam(learning_rate=learnRateVal)\n",
        "\n",
        "embedding_dimension = 32\n",
        "rnn_dimension = 128\n",
        "output_projection_dimension = 128\n",
        "\n",
        "num_embeddings = dataset.get_vocab_size()\n",
        "model = Sequential()\n",
        "model.add(Embedding(num_embeddings, embedding_dimension, mask_zero=True))\n",
        "# Add LSTM layers; X.shape[1] refers to the number of columns in X which is the number of time steps, or window size\n",
        "model.add(LSTM(units=rnn_dimension, return_sequences=True, activation=\"tanh\", unit_forget_bias=True, recurrent_dropout=0, dropout=0.2, use_bias=True))\n",
        "# Add dense layer with activation for categorical output\n",
        "model.add(Dense(output_projection_dimension, activation=\"relu\"))\n",
        "model.add(Dense(num_embeddings))\n",
        "# Compile model using loss function for categorical data\n",
        "\n",
        "# or model.add(Dense(num_embeddings,activation = 'softmax'))   change↓: from_logits=False\n",
        "loss_fn = keras.losses.SparseCategoricalCrossentropy(from_logits=True)  # We use the sparse loss since we've integer encoded the targets. We also set from_logits=True, since we're not applying the softmax explicityly\n",
        "model.compile(loss=loss_fn, optimizer=opt, metrics=[\"accuracy\"])\n",
        "model.summary()"
      ]
    },
    {
      "cell_type": "markdown",
      "id": "3d829c56",
      "metadata": {
        "id": "3d829c56"
      },
      "source": [
        "## Training the model\n",
        "We're now ready to train the model. Do this by running the `fit()` mehtod of the model object. You will se a steady drop in loss and accuracy. For this problem we're not looking at the performance of a development (validation set), so it's hard to track if the model overfits. Likely it will not have capacity to do so, and for the purpose of this lab we can allow the model to do so."
      ]
    },
    {
      "cell_type": "code",
      "execution_count": 99,
      "id": "0acaabb6",
      "metadata": {
        "id": "0acaabb6",
        "colab": {
          "base_uri": "https://localhost:8080/"
        },
        "outputId": "19fef50e-a0c1-4614-bbb9-f609655bb54d"
      },
      "outputs": [
        {
          "output_type": "stream",
          "name": "stdout",
          "text": [
            "Epoch 1/10\n",
            "259/259 [==============================] - 20s 45ms/step - loss: 2.1992 - accuracy: 0.3593\n",
            "Epoch 2/10\n",
            "259/259 [==============================] - 9s 33ms/step - loss: 1.6078 - accuracy: 0.5094\n",
            "Epoch 3/10\n",
            "259/259 [==============================] - 8s 30ms/step - loss: 1.4694 - accuracy: 0.5478\n",
            "Epoch 4/10\n",
            "259/259 [==============================] - 8s 29ms/step - loss: 1.4045 - accuracy: 0.5654\n",
            "Epoch 5/10\n",
            "259/259 [==============================] - 9s 33ms/step - loss: 1.3650 - accuracy: 0.5760\n",
            "Epoch 6/10\n",
            "259/259 [==============================] - 10s 38ms/step - loss: 1.3376 - accuracy: 0.5831\n",
            "Epoch 7/10\n",
            "259/259 [==============================] - 13s 52ms/step - loss: 1.3179 - accuracy: 0.5888\n",
            "Epoch 8/10\n",
            "259/259 [==============================] - 8s 31ms/step - loss: 1.3006 - accuracy: 0.5936\n",
            "Epoch 9/10\n",
            "259/259 [==============================] - 8s 29ms/step - loss: 1.2898 - accuracy: 0.5962\n",
            "Epoch 10/10\n",
            "259/259 [==============================] - 14s 55ms/step - loss: 1.2806 - accuracy: 0.5990\n"
          ]
        },
        {
          "output_type": "execute_result",
          "data": {
            "text/plain": [
              "<keras.src.callbacks.History at 0x7a88cb373490>"
            ]
          },
          "metadata": {},
          "execution_count": 99
        }
      ],
      "source": [
        "model.fit(dataset, epochs=10)"
      ]
    },
    {
      "cell_type": "markdown",
      "id": "be166316",
      "metadata": {
        "id": "be166316"
      },
      "source": [
        "## Generating text - ChatLSTM\n",
        "\n",
        "Now that we've trained our model we can try using to to generate some text. First, you can choose a text to prompt it with by setting the `prompt` variable below. You can change how long the text you wish to generate should be by setting `generation_length` to some desired value. There's a third parameter `temperature` which allows you to control how random the sampling of the next character should be. It should be a float value strictly larger than $0$. If it's set to $1$, the learnt probabilty distribution of the model will be used to sample the next character, as the temperature gets closer to 0, it gets closer to the most probable prediction, and as the temperature goes above $1$, the distribution approches the uniform distribution over the next character."
      ]
    },
    {
      "cell_type": "code",
      "execution_count": 74,
      "id": "6bdac95d",
      "metadata": {
        "id": "6bdac95d",
        "colab": {
          "base_uri": "https://localhost:8080/"
        },
        "outputId": "b2e53002-83ee-42b0-8f12-b6dfc9f0d787"
      },
      "outputs": [
        {
          "output_type": "stream",
          "name": "stdout",
          "text": [
            "I want to go home of his particular and the same of the happiness of his sister was too much and desirable of the sam\n"
          ]
        }
      ],
      "source": [
        "prompt = \"I want to go home\"\n",
        "generation_length = 100\n",
        "temperature = 0.3\n",
        "random_seed = 1729  # Set to None to use a different random seed each time this cell is executed\n",
        "rng = np.random.default_rng(random_seed)\n",
        "\n",
        "def softmax(logits, temperature):\n",
        "    temperature_scaled_logits = logits/temperature\n",
        "    exponentiated_logits = np.exp(temperature_scaled_logits)\n",
        "    return exponentiated_logits / np.sum(exponentiated_logits)\n",
        "\n",
        "\n",
        "encoded_prompt = np.array(dataset.encode_text(prompt), dtype=np.int32)\n",
        "for i in range(generation_length):\n",
        "    next_token_logits = model.predict(encoded_prompt[None, ...], verbose=0)[0, -1]\n",
        "    p =  softmax(next_token_logits, temperature)\n",
        "    sampled_token = rng.choice(len(p), p=p)\n",
        "    encoded_prompt = np.concatenate([encoded_prompt, [sampled_token]])\n",
        "\n",
        "generated_text = \"\".join(dataset.decode_encoded_text(encoded_prompt))\n",
        "print(generated_text)"
      ]
    },
    {
      "cell_type": "code",
      "source": [
        "prompt = \"I want to go home\"\n",
        "\n",
        "encoded_prompt = np.array(dataset.encode_text(prompt), dtype=np.int32)\n",
        "for i in range(generation_length):\n",
        "    next_token_logits = model.predict(encoded_prompt[None, ...], verbose=0)[0, -1]\n",
        "    p =  softmax(next_token_logits, temperature)\n",
        "    sampled_token = rng.choice(len(p), p=p)\n",
        "    encoded_prompt = np.concatenate([encoded_prompt, [sampled_token]])\n",
        "\n",
        "generated_text = \"\".join(dataset.decode_encoded_text(encoded_prompt))\n",
        "print(generated_text)"
      ],
      "metadata": {
        "colab": {
          "base_uri": "https://localhost:8080/"
        },
        "id": "CJ7P0dxGy-id",
        "outputId": "dd5a3d7f-1e90-432e-8b2e-cd57ab591de1"
      },
      "id": "CJ7P0dxGy-id",
      "execution_count": 101,
      "outputs": [
        {
          "output_type": "stream",
          "name": "stdout",
          "text": [
            "i want to go home she had always so much and her attention to the reader of the moment which i was a pleasure of her \n"
          ]
        }
      ]
    },
    {
      "cell_type": "markdown",
      "id": "6399f54e",
      "metadata": {
        "id": "6399f54e"
      },
      "source": [
        "## Exercises\n",
        "\n",
        "Now that we've tested the language model, let's try to modify it and see what effect it might have.\n",
        "\n",
        "### Exercise 1\n",
        "\n",
        "We've trained the model by just taking the text in as is. Often it's a good idea to preprocess the text to make the learning easier.\n",
        "\n",
        " - Create a new tokenizer that before return the character, converts it to lower case.\n",
        " - Do this by implementing a new function `lower_case_character_tokenizer()`.\n",
        " - Look at the [`str class`](https://docs.python.org/3/library/stdtypes.html#text-sequence-type-str) in the python documentation for suitable methods to convert  to lower case.\n",
        " - When you create the dataset, give this function as the tokenizer input instead.\n",
        " - Now train a model with this new dataset. Do you notice any performance difference after you've trained for the same amount of epochs?\n",
        "\n",
        "\n",
        "### Exercise 2\n",
        "\n",
        "Training the neural network to predict the next character requires a lot of capacity.\n",
        "- Try adding two more `LSTM` layers to the model and train it for the same number of epochs as the previous model.\n",
        "- Can you see any difference in performance?\n",
        "- Try increasing the dimensionality of the `LSTM` layers. What effect does it have on the model?\n",
        "\n",
        "### Exercise 3\n",
        "\n",
        "Instead of increasing the model capacity to solve the problem, we can try to change the data.\n",
        "- Implement a _new tokenizer_ that instead of splitting the text by each character splits it using white space and punctuations.\n",
        "- You can use a regular expression and the  [`re module`](https://docs.python.org/3/library/re.html) to split the string. Below is a useful snipped:\n",
        "  ```python\n",
        "  import re\n",
        "  tokenized_text = re.split(r\"[;.!:, \\-_'\\n\\t#]+\", loaded_data[0])\n",
        "  ```\n",
        "  The parts inside the brackets of the regular expression lists all the characters we want to remove. The list might not be exhaustive.\n",
        "\n",
        "- The tokenizer should remove any empty strings from the result, these would behave weirdly in the model. You can use something like:\n",
        "  ```python\n",
        "  tokenized_text = [token for token in tokenized_text if token]\n",
        "  ```\n",
        "\n",
        "- Use this nerw  white space tokenzier as the tokenizer input to the dataset class. You should probably also set the `max_vocab` parameter to something apropriate like 10000. This limits the number of words the dataset effectively uses to this number.\n",
        "\n",
        "- Now train the model using this new tokenizer. What can you say about loss? After training it for some epochs and trying it, how does the text generation change?\n",
        "\n",
        "### Exercise 4\n",
        "\n",
        "Instead of using the collected works of Jane Austen, try to train a language model on your own dataset or on the Shakespeare dataset also provided in the `data` directory.\n",
        "\n",
        "\n",
        "### Exercise 5\n",
        "\n",
        "Two other variables are important for training RNNs, the context length (the length of sequences we actually train the model on) and batch size.\n",
        "- Double the batch size (set in the cell where you create the dataset) and train the model for 5 epochs. Does anything happen with training time?\n",
        "- Reset batch size (halve it again) Double the sequence length and train the model for 5 epochs. Does the change have a similar effect as when you doubled the batch size?\n",
        "\n"
      ]
    }
  ],
  "metadata": {
    "kernelspec": {
      "display_name": "Python 3",
      "name": "python3"
    },
    "language_info": {
      "codemirror_mode": {
        "name": "ipython",
        "version": 3
      },
      "file_extension": ".py",
      "mimetype": "text/x-python",
      "name": "python",
      "nbconvert_exporter": "python",
      "pygments_lexer": "ipython3",
      "version": "3.7.12"
    },
    "colab": {
      "provenance": [],
      "gpuType": "T4"
    },
    "accelerator": "GPU"
  },
  "nbformat": 4,
  "nbformat_minor": 5
}